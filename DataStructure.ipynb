{
 "cells": [
  {
   "cell_type": "markdown",
   "metadata": {
    "id": "gjkHFY3mrk2a"
   },
   "source": [
    "# Data Structure\n"
   ]
  },
  {
   "cell_type": "markdown",
   "metadata": {
    "id": "bJXXM_tQsXdV"
   },
   "source": [
    "1. what are data structures, and why are they important.\n",
    "   - Data structures are ways of organizing and storing data efficiently. They are important because they help in managing and processing data efficiently, improving performance in operations like searching, sorting, and retrieving information.\n",
    "\n",
    "\n",
    "2. Explain the difference between mutable and immutable data types with examples.\n",
    "   - Mutable data types can be modified after creation.\n",
    "   - Immutable data types cannot be changed after creation.\n",
    "\n",
    "\n",
    "3. What are the main differences between lists and tuples in Python.\n",
    "   - Lists are mutable, while tuples are immutable.\n",
    "   - Lists consume more memory and are slightly slower than tuples.\n",
    "   - Tuples are often used for fixed collections of items, while lists are used for dynamic collections.\n",
    "\n",
    "\n",
    "4. Describe how dictionaries store data.\n",
    "   - Dictionaries store data in key-value pairs using a hashing mechanism. Each key maps to a unique value, allowing quick lookups.\n",
    "\n",
    "\n",
    "5. Why might you use a set instead of a list in Python.\n",
    "   - Sets automatically remove duplicates.\n",
    "   - Sets provide efficient union, intersection, and difference operations.\n",
    "   - They offer faster membership tests (in operation).\n",
    "\n",
    "\n",
    "6. What is a string in Python, and how is it different from a list.\n",
    "   - A string is an immutable sequence of characters, while a list is a mutable sequence of elements.\n",
    "\n",
    "\n",
    "7. How do tuples ensure data integrity in Python.\n",
    "   - Since tuples are immutable, their values cannot be changed accidentally, making them reliable for storing fixed data.\n",
    "\n",
    "\n",
    "8. What is a hash table, and how does it relate to dictionaries in Python.\n",
    "   - A hash table is a data structure that stores key-value pairs using a hashing function. Python dictionaries use hash tables to provide fast lookup times.\n",
    "\n",
    "\n",
    "9. Can lists contain different data types in Python.\n",
    "   - Yes, lists can store mixed data types.\n",
    "\n",
    "\n",
    "10. Explain why strings are immutable in Python.\n",
    "   - Strings are immutable to ensure memory efficiency and security, preventing unintended modifications.\n",
    "\n",
    "\n",
    "11. What advantages do dictionaries offer over lists for certain tasks.\n",
    "   - Efficient Data Retrieval\n",
    "   - Meaningful Data Representation\n",
    "   - Flexibility and Dynamic Updates\n",
    "\n",
    "\n",
    "12. How do sets handle duplicate values in Python.\n",
    "   - Sets automatically remove duplicate values when elements are added.\n",
    "\n",
    "\n",
    "13. Describe a scenario where using a tuple would be preferable over a list.\n",
    "   - Tuples are useful when you need fixed data that shouldn't change, like storing coordinates.\n",
    "\n",
    "\n",
    "14. How does the “in” keyword work differently for lists and dictionaries.\n",
    "   - In lists, in checks if a value exists.\n",
    "   - In dictionaries, in checks for the existence of a key, not a value.\n",
    "\n",
    "\n",
    "15. Can you modify the elements of a tuple? Explain why or why not.\n",
    "   - No, tuples are immutable, meaning elements cannot be changed after creation.\n",
    "\n",
    "\n",
    "16. What is a nested dictionary, and give an example of its use case.\n",
    "   - A nested dictionary is a dictionary inside another dictionary, useful for storing structured data.\n",
    "   student = {\n",
    "    \"name\": \"Alice\",\n",
    "    \"grades\": {\"math\": 90, \"science\": 85}\n",
    "     }\n",
    "\n",
    "\n",
    "17. Describe the time complexity of accessing elements in a dictionary.\n",
    "   - Accessing elements in a dictionary has O(1) time complexity due to hashing.\n",
    "\n",
    "\n",
    "18. In what situations are lists preferred over dictionaries.\n",
    "   - When order matters.\n",
    "   - When dealing with sequential data.\n",
    "   - When keys are not needed.\n",
    "\n",
    "\n",
    "19. Why are dictionaries considered unordered, and how does that affect data retrieval.\n",
    "   - Dictionaries in Python are considered unordered because they don't maintain any specific order of their key-value pairs.  This means you can't rely on the order in which you added elements to a dictionary when you iterate through it or access its items.\n",
    "\n",
    "\n",
    "20. Explain the difference between a list and a dictionary in terms of data retrieval.\n",
    "   - Lists use index-based retrieval (O(n) for searching).\n",
    "   - Dictionaries use key-based retrieval (O(1) due to hashing).\n"
   ]
  },
  {
   "cell_type": "markdown",
   "metadata": {
    "id": "e2J6TAVKoN8P"
   },
   "source": [
    " 1. Write a code to create a string with your name and print it"
   ]
  },
  {
   "cell_type": "code",
   "execution_count": 1,
   "metadata": {
    "colab": {
     "base_uri": "https://localhost:8080/"
    },
    "id": "U0Jqf_dogxJq",
    "outputId": "5dc0ebe7-0751-469b-c095-d7a99f7d6d91"
   },
   "outputs": [
    {
     "name": "stdout",
     "output_type": "stream",
     "text": [
      "Khushi Jonwal\n"
     ]
    }
   ],
   "source": [
    "Name = 'Khushi Jonwal'\n",
    "print(Name)"
   ]
  },
  {
   "cell_type": "markdown",
   "metadata": {
    "id": "YdPIkMkHgwxA"
   },
   "source": [
    "2. Write a code to find the length of the string \"Hello World\""
   ]
  },
  {
   "cell_type": "code",
   "execution_count": null,
   "metadata": {
    "colab": {
     "base_uri": "https://localhost:8080/"
    },
    "id": "3qBSkdSFguJd",
    "outputId": "2af3b933-bd89-480b-b23e-c4b6523e9c70"
   },
   "outputs": [
    {
     "name": "stdout",
     "output_type": "stream",
     "text": [
      "length of the string =  11\n"
     ]
    }
   ],
   "source": [
    "str = \"Hello World\"\n",
    "print(\"length of the string = \",len(str))"
   ]
  },
  {
   "cell_type": "markdown",
   "metadata": {
    "id": "ZNoHB9W9oZhL"
   },
   "source": [
    "3. Write a code to slice the first 3 characters from the string \"Python Programming\""
   ]
  },
  {
   "cell_type": "code",
   "execution_count": null,
   "metadata": {
    "colab": {
     "base_uri": "https://localhost:8080/"
    },
    "id": "tFU9ZVMGh1GI",
    "outputId": "baa37574-9bd1-411c-9c99-8dc911571eb2"
   },
   "outputs": [
    {
     "name": "stdout",
     "output_type": "stream",
     "text": [
      "Pyt\n"
     ]
    }
   ],
   "source": [
    "str2 = \"Python Programming\"\n",
    "string_slice = str2[0:3]\n",
    "print(string_slice)\n",
    "\n"
   ]
  },
  {
   "cell_type": "markdown",
   "metadata": {
    "id": "Z0xRWGKgoht_"
   },
   "source": [
    "4.  Write a code to convert the string \"hello\" to uppercase"
   ]
  },
  {
   "cell_type": "code",
   "execution_count": null,
   "metadata": {
    "colab": {
     "base_uri": "https://localhost:8080/"
    },
    "id": "AXe1AsaEiluQ",
    "outputId": "ff195010-b86a-4dd9-919e-fb740db31286"
   },
   "outputs": [
    {
     "name": "stdout",
     "output_type": "stream",
     "text": [
      "HELLO\n"
     ]
    }
   ],
   "source": [
    "text = \"hello\"\n",
    "print(text.upper())"
   ]
  },
  {
   "cell_type": "markdown",
   "metadata": {
    "id": "TSC4cQQoowsq"
   },
   "source": [
    "5. Write a code to replace the word \"apple\" with \"orange\" in the string \"I like apple\""
   ]
  },
  {
   "cell_type": "code",
   "execution_count": null,
   "metadata": {
    "colab": {
     "base_uri": "https://localhost:8080/"
    },
    "id": "emxvl0tSw2uI",
    "outputId": "ac9fd89d-16cf-48d0-9b0b-13e1a085d15b"
   },
   "outputs": [
    {
     "name": "stdout",
     "output_type": "stream",
     "text": [
      "I like orange\n"
     ]
    }
   ],
   "source": [
    "txt = \"I like apple\"\n",
    "print(txt.replace(\"apple\", \"orange\"))"
   ]
  },
  {
   "cell_type": "markdown",
   "metadata": {
    "id": "yopNsg8Do0pI"
   },
   "source": [
    "6. Write a code to create a list with numbers 1 to 5 and print it"
   ]
  },
  {
   "cell_type": "code",
   "execution_count": null,
   "metadata": {
    "colab": {
     "base_uri": "https://localhost:8080/"
    },
    "id": "REA9bPr1xaah",
    "outputId": "e1e7a2ba-12bf-4d9a-cb1f-4b18d869fe7e"
   },
   "outputs": [
    {
     "name": "stdout",
     "output_type": "stream",
     "text": [
      "[1, 2, 3, 4, 5]\n"
     ]
    }
   ],
   "source": [
    "lst = [1,2,3,4,5]\n",
    "print(lst)"
   ]
  },
  {
   "cell_type": "markdown",
   "metadata": {
    "id": "kxfDP103o7NP"
   },
   "source": [
    "7. Write a code to append the number 10 to the list [1, 2, 3, 4]"
   ]
  },
  {
   "cell_type": "code",
   "execution_count": null,
   "metadata": {
    "colab": {
     "base_uri": "https://localhost:8080/"
    },
    "id": "KC8wq1VhxhuZ",
    "outputId": "bbd47ef3-2c54-482a-9e85-f6720ca10103"
   },
   "outputs": [
    {
     "name": "stdout",
     "output_type": "stream",
     "text": [
      "[1, 2, 3, 4, 5, 10]\n"
     ]
    }
   ],
   "source": [
    "lst.append(10)\n",
    "print(lst)"
   ]
  },
  {
   "cell_type": "markdown",
   "metadata": {
    "id": "9wJxoBxdo77y"
   },
   "source": [
    "8. Write a code to remove the number 3 from the list [1, 2, 3, 4, 5]"
   ]
  },
  {
   "cell_type": "code",
   "execution_count": null,
   "metadata": {
    "colab": {
     "base_uri": "https://localhost:8080/"
    },
    "id": "B9lR3hWTxp8A",
    "outputId": "7163be30-2bc3-4907-925b-c454e719aa42"
   },
   "outputs": [
    {
     "name": "stdout",
     "output_type": "stream",
     "text": [
      "[1, 2, 4, 5, 10]\n"
     ]
    }
   ],
   "source": [
    "lst.remove(3)\n",
    "print(lst)"
   ]
  },
  {
   "cell_type": "markdown",
   "metadata": {
    "id": "t1ABnvflo86k"
   },
   "source": [
    "9.  Write a code to access the second element in the list ['a', 'b', 'c', 'd']"
   ]
  },
  {
   "cell_type": "code",
   "execution_count": null,
   "metadata": {
    "colab": {
     "base_uri": "https://localhost:8080/"
    },
    "id": "UrCUE_mox0dn",
    "outputId": "759ba4b8-6b0d-4ee0-eec6-96ea859b22e9"
   },
   "outputs": [
    {
     "name": "stdout",
     "output_type": "stream",
     "text": [
      "b\n"
     ]
    }
   ],
   "source": [
    "lstt = ['a','b','c','d']\n",
    "print(lstt[1])"
   ]
  },
  {
   "cell_type": "markdown",
   "metadata": {
    "id": "RgAVfdNPo9es"
   },
   "source": [
    "10. Write a code to reverse the list [10, 20, 30, 40, 50]."
   ]
  },
  {
   "cell_type": "code",
   "execution_count": null,
   "metadata": {
    "colab": {
     "base_uri": "https://localhost:8080/"
    },
    "id": "melqQRr6kqed",
    "outputId": "d1dabea1-8954-4c9d-99d0-0d037a97fb8e"
   },
   "outputs": [
    {
     "name": "stdout",
     "output_type": "stream",
     "text": [
      "[50, 40, 30, 20, 10]\n"
     ]
    }
   ],
   "source": [
    "c = [10,20,30,40,50]\n",
    "c.reverse()\n",
    "print(c)"
   ]
  },
  {
   "cell_type": "markdown",
   "metadata": {
    "id": "EHuFiLePo-TG"
   },
   "source": [
    "11. Write a code to create a tuple with the elements 100, 200, 300 and print it."
   ]
  },
  {
   "cell_type": "code",
   "execution_count": null,
   "metadata": {
    "colab": {
     "base_uri": "https://localhost:8080/"
    },
    "id": "OmFGkMjeyAOI",
    "outputId": "97db3c68-cddc-454c-daa8-bfa7ac21f0a1"
   },
   "outputs": [
    {
     "name": "stdout",
     "output_type": "stream",
     "text": [
      "(100, 200, 300)\n"
     ]
    }
   ],
   "source": [
    "tupl = (100,200,300)\n",
    "print(tupl)"
   ]
  },
  {
   "cell_type": "markdown",
   "metadata": {
    "id": "51LIA9dZo-9L"
   },
   "source": [
    "12. Write a code to access the second-to-last element of the tuple ('red', 'green', 'blue', 'yellow')."
   ]
  },
  {
   "cell_type": "code",
   "execution_count": null,
   "metadata": {
    "colab": {
     "base_uri": "https://localhost:8080/"
    },
    "id": "bk3h0wyJlEa_",
    "outputId": "5c4caf3c-0d75-43f2-daef-802241604fdd"
   },
   "outputs": [
    {
     "name": "stdout",
     "output_type": "stream",
     "text": [
      "blue\n"
     ]
    }
   ],
   "source": [
    "colors = ('red', 'green', 'blue', 'yellow')\n",
    "print(colors[-2])"
   ]
  },
  {
   "cell_type": "markdown",
   "metadata": {
    "id": "kLmGf6cvo_pd"
   },
   "source": [
    "13. Write a code to find the minimum number in the tuple (10, 20, 5, 15)."
   ]
  },
  {
   "cell_type": "code",
   "execution_count": null,
   "metadata": {
    "colab": {
     "base_uri": "https://localhost:8080/"
    },
    "id": "B7hJxz1rmqhJ",
    "outputId": "6e2a1688-aeee-44b1-a0dc-9164b4dec1d7"
   },
   "outputs": [
    {
     "name": "stdout",
     "output_type": "stream",
     "text": [
      "5\n"
     ]
    }
   ],
   "source": [
    "numbers = (10, 20, 5, 15)\n",
    "print(min(numbers))"
   ]
  },
  {
   "cell_type": "markdown",
   "metadata": {
    "id": "LEso5jvApAMn"
   },
   "source": [
    "14. rite a code to find the index of the element \"cat\" in the tuple ('dog', 'cat', 'rabbit')."
   ]
  },
  {
   "cell_type": "code",
   "execution_count": null,
   "metadata": {
    "colab": {
     "base_uri": "https://localhost:8080/"
    },
    "id": "UL2VHkbqmsYF",
    "outputId": "bbec31d3-c891-4d28-a8d7-02c876a68dfc"
   },
   "outputs": [
    {
     "name": "stdout",
     "output_type": "stream",
     "text": [
      "1\n"
     ]
    }
   ],
   "source": [
    "animals = ('dog', 'cat', 'rabbit')\n",
    "print(animals.index('cat'))"
   ]
  },
  {
   "cell_type": "markdown",
   "metadata": {
    "id": "-OcUtaqSpAut"
   },
   "source": [
    "15. Write a code to create a tuple containing three different fruits and check if \"kiwi\" is in it."
   ]
  },
  {
   "cell_type": "code",
   "execution_count": null,
   "metadata": {
    "colab": {
     "base_uri": "https://localhost:8080/"
    },
    "id": "nmFsPmFEmw14",
    "outputId": "884e09ed-d475-48f0-8111-e74fccf060bd"
   },
   "outputs": [
    {
     "name": "stdout",
     "output_type": "stream",
     "text": [
      "False\n"
     ]
    }
   ],
   "source": [
    "fruits = ('apple', 'banana', 'mango')\n",
    "print(\"kiwi\" in fruits)"
   ]
  },
  {
   "cell_type": "markdown",
   "metadata": {
    "id": "3CbJvbFypBXj"
   },
   "source": [
    "16. Write a code to create a set with the elements 'a', 'b', 'c' and print it."
   ]
  },
  {
   "cell_type": "code",
   "execution_count": null,
   "metadata": {
    "colab": {
     "base_uri": "https://localhost:8080/"
    },
    "id": "FHV743I3m0PJ",
    "outputId": "e4e756fc-fb2e-4fac-e208-1a83c7c015ea"
   },
   "outputs": [
    {
     "name": "stdout",
     "output_type": "stream",
     "text": [
      "{'b', 'c', 'a'}\n"
     ]
    }
   ],
   "source": [
    "my_set = {'a', 'b', 'c'}\n",
    "print(my_set)"
   ]
  },
  {
   "cell_type": "markdown",
   "metadata": {
    "id": "x_ZXu0hCpB-7"
   },
   "source": [
    "17. Write a code to clear all elements from the set {1, 2, 3, 4, 5}."
   ]
  },
  {
   "cell_type": "code",
   "execution_count": null,
   "metadata": {
    "colab": {
     "base_uri": "https://localhost:8080/"
    },
    "id": "T9-1X_GZnQvh",
    "outputId": "e5752ace-9682-4942-ba24-4db053f92ad3"
   },
   "outputs": [
    {
     "name": "stdout",
     "output_type": "stream",
     "text": [
      "set()\n"
     ]
    }
   ],
   "source": [
    "s = {1, 2, 3, 4, 5}\n",
    "s.clear()\n",
    "print(s)"
   ]
  },
  {
   "cell_type": "markdown",
   "metadata": {
    "id": "uDL7Z_sPpCo_"
   },
   "source": [
    " 18. Write a code to remove the element 4 from the set {1, 2, 3, 4}"
   ]
  },
  {
   "cell_type": "code",
   "execution_count": null,
   "metadata": {
    "colab": {
     "base_uri": "https://localhost:8080/"
    },
    "id": "oeQf33CGnV5z",
    "outputId": "5c7cd3ad-cc8d-4a9f-afe0-c28e3c87a163"
   },
   "outputs": [
    {
     "name": "stdout",
     "output_type": "stream",
     "text": [
      "{1, 2, 3}\n"
     ]
    }
   ],
   "source": [
    "s = {1, 2, 3, 4}\n",
    "s.remove(4)\n",
    "print(s)"
   ]
  },
  {
   "cell_type": "markdown",
   "metadata": {
    "id": "TtilyydHpDiG"
   },
   "source": [
    "19. Write a code to find the union of two sets {1, 2, 3} and {3, 4, 5}."
   ]
  },
  {
   "cell_type": "code",
   "execution_count": null,
   "metadata": {
    "colab": {
     "base_uri": "https://localhost:8080/"
    },
    "id": "GOAo4AEJnZ3n",
    "outputId": "04f3a7a4-cc13-45e1-8072-8510698872de"
   },
   "outputs": [
    {
     "name": "stdout",
     "output_type": "stream",
     "text": [
      "{1, 2, 3, 4, 5}\n"
     ]
    }
   ],
   "source": [
    "set1 = {1, 2, 3}\n",
    "set2 = {3, 4, 5}\n",
    "print(set1 | set2)"
   ]
  },
  {
   "cell_type": "markdown",
   "metadata": {
    "id": "nyIWxFVSpEEr"
   },
   "source": [
    " 20. Write a code to find the intersection of two sets {1, 2, 3} and {2, 3, 4}"
   ]
  },
  {
   "cell_type": "code",
   "execution_count": 1,
   "metadata": {
    "colab": {
     "base_uri": "https://localhost:8080/"
    },
    "id": "YBNNuNQcnb4f",
    "outputId": "60fe96af-9dd4-4074-d332-5a725a8d7cf1"
   },
   "outputs": [
    {
     "name": "stdout",
     "output_type": "stream",
     "text": [
      "{2, 3}\n"
     ]
    }
   ],
   "source": [
    "s1 = {1, 2, 3}\n",
    "s2 = {2, 3, 4}\n",
    "print(s1 & s2)\n"
   ]
  },
  {
   "cell_type": "markdown",
   "metadata": {
    "id": "dICOSV14pEsX"
   },
   "source": [
    " 21. Write a code to create a dictionary with the keys \"name\", \"age\", and \"city\", and print it"
   ]
  },
  {
   "cell_type": "code",
   "execution_count": null,
   "metadata": {
    "colab": {
     "base_uri": "https://localhost:8080/"
    },
    "id": "Vdti1E71nf9z",
    "outputId": "7fe76d53-65d9-47a7-8bb3-e0d477b940ce"
   },
   "outputs": [
    {
     "name": "stdout",
     "output_type": "stream",
     "text": [
      "{'name': 'Alice', 'age': 30, 'city': 'New York'}\n"
     ]
    }
   ],
   "source": [
    "person = {\"name\": \"Alice\", \"age\": 30, \"city\": \"New York\"}\n",
    "print(person)"
   ]
  },
  {
   "cell_type": "markdown",
   "metadata": {
    "id": "PLDAlfBWpFVo"
   },
   "source": [
    " 22. Write a code to add a new key-value pair \"country\": \"USA\" to the dictionary {'name': 'John', 'age': 25}"
   ]
  },
  {
   "cell_type": "code",
   "execution_count": null,
   "metadata": {
    "colab": {
     "base_uri": "https://localhost:8080/"
    },
    "id": "17aUxkg9nlBG",
    "outputId": "431493a3-2d51-4799-cc18-04f5056aedc7"
   },
   "outputs": [
    {
     "name": "stdout",
     "output_type": "stream",
     "text": [
      "{'name': 'John', 'age': 25, 'country': 'USA'}\n"
     ]
    }
   ],
   "source": [
    "person = {'name': 'John', 'age': 25}\n",
    "person['country'] = 'USA'\n",
    "print(person)"
   ]
  },
  {
   "cell_type": "markdown",
   "metadata": {
    "id": "pnrAn6xkpF73"
   },
   "source": [
    " 23. Write a code to access the value associated with the key \"name\" in the dictionary {'name': 'Alice', 'age': 30}."
   ]
  },
  {
   "cell_type": "code",
   "execution_count": 2,
   "metadata": {
    "colab": {
     "base_uri": "https://localhost:8080/"
    },
    "id": "Jv2_7YjQnn6E",
    "outputId": "6187a955-3dc0-4135-e987-5c80c368ac0d"
   },
   "outputs": [
    {
     "name": "stdout",
     "output_type": "stream",
     "text": [
      "Alice\n"
     ]
    }
   ],
   "source": [
    "mydict = {'name': 'Alice', 'age': 30}\n",
    "print(mydict['name'])"
   ]
  },
  {
   "cell_type": "markdown",
   "metadata": {
    "id": "Oad9ILXQpGiv"
   },
   "source": [
    " 24. Write a code to remove the key \"age\" from the dictionary {'name': 'Bob', 'age': 22, 'city': 'New York'}."
   ]
  },
  {
   "cell_type": "code",
   "execution_count": null,
   "metadata": {
    "colab": {
     "base_uri": "https://localhost:8080/"
    },
    "id": "GYh5vRRGnquJ",
    "outputId": "2e2c23b3-b91f-4872-82eb-e43639bc583e"
   },
   "outputs": [
    {
     "name": "stdout",
     "output_type": "stream",
     "text": [
      "{'name': 'Bob', 'city': 'New York'}\n"
     ]
    }
   ],
   "source": [
    "person = {'name': 'Bob', 'age': 22, 'city': 'New York'}\n",
    "del person['age']\n",
    "print(person)"
   ]
  },
  {
   "cell_type": "markdown",
   "metadata": {
    "id": "zm0jy4_6pHeq"
   },
   "source": [
    " 25. Write a code to check if the key \"city\" exists in the dictionary {'name': 'Alice', 'city': 'Paris'}"
   ]
  },
  {
   "cell_type": "code",
   "execution_count": null,
   "metadata": {
    "colab": {
     "base_uri": "https://localhost:8080/"
    },
    "id": "Hlla_1R2ntng",
    "outputId": "38059421-0a73-42b4-9210-47db7b40a872"
   },
   "outputs": [
    {
     "name": "stdout",
     "output_type": "stream",
     "text": [
      "True\n"
     ]
    }
   ],
   "source": [
    "person = {'name': 'Alice', 'city': 'Paris'}\n",
    "print(\"city\" in person)"
   ]
  },
  {
   "cell_type": "markdown",
   "metadata": {
    "id": "AM-U34B2pIhE"
   },
   "source": [
    "26. Write a code to create a list, a tuple, and a dictionary, and print them all."
   ]
  },
  {
   "cell_type": "code",
   "execution_count": null,
   "metadata": {
    "colab": {
     "base_uri": "https://localhost:8080/"
    },
    "id": "-y-KZyVbnwLl",
    "outputId": "11972404-ee17-4771-8cbe-ce2b39dc54af"
   },
   "outputs": [
    {
     "name": "stdout",
     "output_type": "stream",
     "text": [
      "[1, 2, 3] (4, 5, 6) {'a': 7, 'b': 8}\n"
     ]
    }
   ],
   "source": [
    "my_list = [1, 2, 3]\n",
    "my_tuple = (4, 5, 6)\n",
    "my_dict = {'a': 7, 'b': 8}\n",
    "print(my_list, my_tuple, my_dict)"
   ]
  },
  {
   "cell_type": "markdown",
   "metadata": {
    "id": "8H5T_HwgpJGt"
   },
   "source": [
    "27. Write a code to create a list of 5 random numbers between 1 and 100, sort it in ascending order, and print the result. (replaced)"
   ]
  },
  {
   "cell_type": "code",
   "execution_count": null,
   "metadata": {
    "colab": {
     "base_uri": "https://localhost:8080/"
    },
    "id": "07sQ1LlcnzXC",
    "outputId": "9159d955-db73-4c17-b5f4-aa157f33708c"
   },
   "outputs": [
    {
     "name": "stdout",
     "output_type": "stream",
     "text": [
      "[9, 12, 35, 43, 91]\n"
     ]
    }
   ],
   "source": [
    "import random\n",
    "rand_list = random.sample(range(1, 101), 5)\n",
    "rand_list.sort()\n",
    "print(rand_list)"
   ]
  },
  {
   "cell_type": "markdown",
   "metadata": {
    "id": "NfS2n9n5pKdM"
   },
   "source": [
    "28. Write a code to create a list with strings and print the element at the third index."
   ]
  },
  {
   "cell_type": "code",
   "execution_count": null,
   "metadata": {
    "colab": {
     "base_uri": "https://localhost:8080/"
    },
    "id": "BufxAL0Sn2bQ",
    "outputId": "7fd808ca-f1fa-4faa-ac86-b95462d7ab50"
   },
   "outputs": [
    {
     "name": "stdout",
     "output_type": "stream",
     "text": [
      "date\n"
     ]
    }
   ],
   "source": [
    "words = [\"apple\", \"banana\", \"cherry\", \"date\", \"fig\"]\n",
    "print(words[3])"
   ]
  },
  {
   "cell_type": "markdown",
   "metadata": {
    "id": "IAl6svkFpLWk"
   },
   "source": [
    "29. Write a code to combine two dictionaries into one and print the result."
   ]
  },
  {
   "cell_type": "code",
   "execution_count": null,
   "metadata": {
    "colab": {
     "base_uri": "https://localhost:8080/"
    },
    "id": "7Oz2nTLPn5da",
    "outputId": "dab71cb3-1f30-4b06-f96b-e3edb8be45f3"
   },
   "outputs": [
    {
     "name": "stdout",
     "output_type": "stream",
     "text": [
      "{'a': 1, 'b': 2, 'c': 3, 'd': 4}\n"
     ]
    }
   ],
   "source": [
    "dict1 = {'a': 1, 'b': 2}\n",
    "dict2 = {'c': 3, 'd': 4}\n",
    "merged_dict = {**dict1, **dict2}\n",
    "print(merged_dict)"
   ]
  },
  {
   "cell_type": "markdown",
   "metadata": {
    "id": "3dwawnIepMS9"
   },
   "source": [
    " 30. Write a code to convert a list of strings into a set."
   ]
  },
  {
   "cell_type": "code",
   "execution_count": null,
   "metadata": {
    "colab": {
     "base_uri": "https://localhost:8080/"
    },
    "id": "EjL6nkTBn8NE",
    "outputId": "01ea61fa-ba93-409d-a788-d6a67b86bb8e"
   },
   "outputs": [
    {
     "name": "stdout",
     "output_type": "stream",
     "text": [
      "{'cherry', 'banana', 'apple'}\n"
     ]
    }
   ],
   "source": [
    "str_list = [\"apple\", \"banana\", \"cherry\", \"apple\"]\n",
    "str_set = set(str_list)\n",
    "print(str_set)"
   ]
  }
 ],
 "metadata": {
  "colab": {
   "provenance": []
  },
  "kernelspec": {
   "display_name": "Python 3",
   "name": "python3"
  },
  "language_info": {
   "codemirror_mode": {
    "name": "ipython",
    "version": 3
   },
   "file_extension": ".py",
   "mimetype": "text/x-python",
   "name": "python",
   "nbconvert_exporter": "python",
   "pygments_lexer": "ipython3",
   "version": "3.13.3"
  }
 },
 "nbformat": 4,
 "nbformat_minor": 0
}
